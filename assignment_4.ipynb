{
 "cells": [
  {
   "cell_type": "markdown",
   "metadata": {},
   "source": [
    "### Qustion 1:  Determine is 22 exist in [3,41,12,9,74,15]. Otherwise print \"does not exist\""
   ]
  },
  {
   "cell_type": "markdown",
   "metadata": {},
   "source": [
    "### Question 2: Determine how many times did 22 exist in [3,41,12,9,74,15]"
   ]
  },
  {
   "cell_type": "code",
   "execution_count": 2,
   "metadata": {},
   "outputs": [
    {
     "name": "stdout",
     "output_type": "stream",
     "text": [
      "it does not\n",
      "it does not\n",
      "it does not\n",
      "it does not\n",
      "it does not\n",
      "it does not\n"
     ]
    }
   ],
   "source": [
    "#solution 1\n",
    "numbers = [3,41,12,9,74,15,]\n",
    "counter = 0\n",
    "for i in numbers:\n",
    "    if i == 22:\n",
    "        counter = counter + 1\n",
    "    if counter >= 1:\n",
    "        print(\"it exist\")\n",
    "    else:\n",
    "        print(\"it does not\")"
   ]
  },
  {
   "cell_type": "code",
   "execution_count": 4,
   "metadata": {},
   "outputs": [
    {
     "name": "stdout",
     "output_type": "stream",
     "text": [
      "it does not\n",
      "it does not\n",
      "it does not\n",
      "it does not\n",
      "it does not\n",
      "it does not\n",
      "counter 0\n"
     ]
    }
   ],
   "source": [
    "#solution 2\n",
    "numbers = [3,41,12,9,74,15]\n",
    "counter = 0\n",
    "for i in numbers:\n",
    "    if i == 22:\n",
    "        counter = counter + 1\n",
    "    if counter >= 1:\n",
    "        print(\"it exist\")\n",
    "    else:\n",
    "        print(\"it does not\")\n",
    "print(\"counter\", counter)\n",
    "           "
   ]
  },
  {
   "cell_type": "code",
   "execution_count": null,
   "metadata": {},
   "outputs": [],
   "source": []
  }
 ],
 "metadata": {
  "kernelspec": {
   "display_name": "Python 3",
   "language": "python",
   "name": "python3"
  },
  "language_info": {
   "codemirror_mode": {
    "name": "ipython",
    "version": 3
   },
   "file_extension": ".py",
   "mimetype": "text/x-python",
   "name": "python",
   "nbconvert_exporter": "python",
   "pygments_lexer": "ipython3",
   "version": "3.6.7"
  }
 },
 "nbformat": 4,
 "nbformat_minor": 2
}
